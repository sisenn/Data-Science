{
 "cells": [
  {
   "cell_type": "code",
   "execution_count": 194,
   "id": "6b885007-88b2-4810-a072-e7a8c54e01a6",
   "metadata": {},
   "outputs": [
    {
     "name": "stdout",
     "output_type": "stream",
     "text": [
      "<class 'pandas.core.frame.DataFrame'>\n",
      "RangeIndex: 471 entries, 0 to 470\n",
      "Data columns (total 16 columns):\n",
      " #   Column            Non-Null Count  Dtype  \n",
      "---  ------            --------------  -----  \n",
      " 0   index             471 non-null    int64  \n",
      " 1   Year              471 non-null    float64\n",
      " 2   Type              471 non-null    object \n",
      " 3   Mileage(miles)    471 non-null    float64\n",
      " 4   Engine            471 non-null    object \n",
      " 5   PS                471 non-null    float64\n",
      " 6   Transmission      471 non-null    object \n",
      " 7   Fuel              471 non-null    object \n",
      " 8   Number_of_Owners  471 non-null    int64  \n",
      " 9   Price(£)          471 non-null    float64\n",
      " 10  href              471 non-null    object \n",
      " 11  PPY               471 non-null    float64\n",
      " 12  MileageRank       471 non-null    int64  \n",
      " 13  PriceRank         471 non-null    int64  \n",
      " 14  PPYRank           471 non-null    int64  \n",
      " 15  Score             471 non-null    int64  \n",
      "dtypes: float64(5), int64(6), object(5)\n",
      "memory usage: 59.0+ KB\n"
     ]
    }
   ],
   "source": [
    "df = pd.read_csv(\"/Users/sinemsen/Downloads/Audi_A1.csv\")\n",
    "df.info()"
   ]
  },
  {
   "cell_type": "code",
   "execution_count": 193,
   "id": "c9ae03af-e2ee-425b-995a-2f26641a8221",
   "metadata": {},
   "outputs": [],
   "source": [
    "import pandas as pd\n",
    "from sklearn.preprocessing import LabelEncoder\n",
    "from sklearn.linear_model import LinearRegression"
   ]
  },
  {
   "cell_type": "code",
   "execution_count": 195,
   "id": "2745c475-1fd4-42ed-b804-672001210205",
   "metadata": {},
   "outputs": [
    {
     "data": {
      "text/html": [
       "<div>\n",
       "<style scoped>\n",
       "    .dataframe tbody tr th:only-of-type {\n",
       "        vertical-align: middle;\n",
       "    }\n",
       "\n",
       "    .dataframe tbody tr th {\n",
       "        vertical-align: top;\n",
       "    }\n",
       "\n",
       "    .dataframe thead th {\n",
       "        text-align: right;\n",
       "    }\n",
       "</style>\n",
       "<table border=\"1\" class=\"dataframe\">\n",
       "  <thead>\n",
       "    <tr style=\"text-align: right;\">\n",
       "      <th></th>\n",
       "      <th>Year</th>\n",
       "      <th>Type</th>\n",
       "      <th>Mileage(miles)</th>\n",
       "      <th>Engine</th>\n",
       "      <th>PS</th>\n",
       "      <th>Transmission</th>\n",
       "      <th>Fuel</th>\n",
       "      <th>Number_of_Owners</th>\n",
       "      <th>Price(£)</th>\n",
       "    </tr>\n",
       "  </thead>\n",
       "  <tbody>\n",
       "    <tr>\n",
       "      <th>0</th>\n",
       "      <td>2018.0</td>\n",
       "      <td>Hatchback</td>\n",
       "      <td>44000.0</td>\n",
       "      <td>1.6L</td>\n",
       "      <td>114.398422</td>\n",
       "      <td>Manual</td>\n",
       "      <td>Diesel</td>\n",
       "      <td>1</td>\n",
       "      <td>14995.0</td>\n",
       "    </tr>\n",
       "    <tr>\n",
       "      <th>1</th>\n",
       "      <td>2016.0</td>\n",
       "      <td>Hatchback</td>\n",
       "      <td>42596.0</td>\n",
       "      <td>1.0L</td>\n",
       "      <td>93.688363</td>\n",
       "      <td>Manual</td>\n",
       "      <td>Petrol</td>\n",
       "      <td>3</td>\n",
       "      <td>10755.0</td>\n",
       "    </tr>\n",
       "    <tr>\n",
       "      <th>2</th>\n",
       "      <td>2015.0</td>\n",
       "      <td>Hatchback</td>\n",
       "      <td>42700.0</td>\n",
       "      <td>1.4L</td>\n",
       "      <td>123.274162</td>\n",
       "      <td>Manual</td>\n",
       "      <td>Petrol</td>\n",
       "      <td>2</td>\n",
       "      <td>10799.0</td>\n",
       "    </tr>\n",
       "  </tbody>\n",
       "</table>\n",
       "</div>"
      ],
      "text/plain": [
       "     Year       Type  Mileage(miles) Engine          PS Transmission    Fuel  \\\n",
       "0  2018.0  Hatchback         44000.0   1.6L  114.398422       Manual  Diesel   \n",
       "1  2016.0  Hatchback         42596.0   1.0L   93.688363       Manual  Petrol   \n",
       "2  2015.0  Hatchback         42700.0   1.4L  123.274162       Manual  Petrol   \n",
       "\n",
       "   Number_of_Owners  Price(£)  \n",
       "0                 1   14995.0  \n",
       "1                 3   10755.0  \n",
       "2                 2   10799.0  "
      ]
     },
     "execution_count": 195,
     "metadata": {},
     "output_type": "execute_result"
    }
   ],
   "source": [
    "#(preprocessing) kullanılmayacak verileri dataset içinden temizleme\n",
    "df = df.drop(columns=[\"index\", \"href\", \"PPY\", \"MileageRank\", \"PriceRank\", \"PPYRank\", \"Score\"])\n",
    "df.head(3)"
   ]
  },
  {
   "cell_type": "code",
   "execution_count": 196,
   "id": "caeb0229-b2f5-4945-bee4-6bb4b5862e0d",
   "metadata": {},
   "outputs": [
    {
     "name": "stdout",
     "output_type": "stream",
     "text": [
      "<class 'pandas.core.frame.DataFrame'>\n",
      "RangeIndex: 471 entries, 0 to 470\n",
      "Data columns (total 9 columns):\n",
      " #   Column            Non-Null Count  Dtype  \n",
      "---  ------            --------------  -----  \n",
      " 0   Year              471 non-null    float64\n",
      " 1   Type              471 non-null    object \n",
      " 2   Mileage(miles)    471 non-null    float64\n",
      " 3   Engine            471 non-null    float64\n",
      " 4   PS                471 non-null    float64\n",
      " 5   Transmission      471 non-null    object \n",
      " 6   Fuel              471 non-null    object \n",
      " 7   Number_of_Owners  471 non-null    int64  \n",
      " 8   Price(£)          471 non-null    float64\n",
      "dtypes: float64(5), int64(1), object(3)\n",
      "memory usage: 33.2+ KB\n"
     ]
    }
   ],
   "source": [
    "df[\"Engine\"]=df[\"Engine\"].str.replace(\"L\", \"\")\n",
    "df[\"Engine\"]=pd.to_numeric(df[\"Engine\"])\n",
    "df.head(3)\n",
    "df.info()"
   ]
  },
  {
   "cell_type": "code",
   "execution_count": 197,
   "id": "5a5dea71-ec9e-4aec-b7a0-a2a1735d50e1",
   "metadata": {},
   "outputs": [
    {
     "name": "stdout",
     "output_type": "stream",
     "text": [
      "       Year       Type  Mileage(miles)  Engine          PS Transmission  \\\n",
      "0    2018.0  Hatchback         44000.0     1.6  114.398422       Manual   \n",
      "1    2016.0  Hatchback         42596.0     1.0   93.688363       Manual   \n",
      "2    2015.0  Hatchback         42700.0     1.4  123.274162       Manual   \n",
      "3    2014.0  Hatchback         86000.0     1.6  103.550296       Manual   \n",
      "4    2014.0  Hatchback        104310.0     1.6  103.550296       Manual   \n",
      "..      ...        ...             ...     ...         ...          ...   \n",
      "466  2014.0  Hatchback         40195.0     1.4  138.067061    Automatic   \n",
      "467  2020.0  Hatchback         26218.0     1.0  114.398422       Manual   \n",
      "468  2017.0  Hatchback         48571.0     1.4  123.274162       Manual   \n",
      "469  2020.0  Hatchback          9584.0     1.0   93.688363       Manual   \n",
      "470  2019.0  Hatchback         17303.0     1.0  114.398422       Manual   \n",
      "\n",
      "       Fuel  Number_of_Owners  Price(£)  \n",
      "0    Diesel                 1   14995.0  \n",
      "1    Petrol                 3   10755.0  \n",
      "2    Petrol                 2   10799.0  \n",
      "3    Diesel                 3    7490.0  \n",
      "4    Diesel                 3    7400.0  \n",
      "..      ...               ...       ...  \n",
      "466  Petrol                 3   11275.0  \n",
      "467  Petrol                 1   18495.0  \n",
      "468  Petrol                 2   11995.0  \n",
      "469  Petrol                 1   19970.0  \n",
      "470  Petrol                 1   17195.0  \n",
      "\n",
      "[471 rows x 9 columns]\n"
     ]
    }
   ],
   "source": [
    "print(df)"
   ]
  },
  {
   "cell_type": "code",
   "execution_count": 202,
   "id": "d8dc2070-48b9-4818-a420-f93dd1dd19fd",
   "metadata": {},
   "outputs": [
    {
     "name": "stdout",
     "output_type": "stream",
     "text": [
      "Kategorik Sütunlar:\n",
      "['Type', 'Transmission', 'Fuel']\n"
     ]
    }
   ],
   "source": [
    "categorical_columns = df.select_dtypes(include=['object']).columns.tolist()\n",
    "\n",
    "print(\"Kategorik Sütunlar:\")\n",
    "print(categorical_columns)"
   ]
  },
  {
   "cell_type": "code",
   "execution_count": 204,
   "id": "3933f215-d194-4823-a723-54d4819c8a04",
   "metadata": {},
   "outputs": [
    {
     "name": "stdout",
     "output_type": "stream",
     "text": [
      "       Year  Type  Mileage(miles)  Engine          PS  Transmission  Fuel  \\\n",
      "0    2018.0     0         44000.0     1.6  114.398422             1     0   \n",
      "1    2016.0     0         42596.0     1.0   93.688363             1     1   \n",
      "2    2015.0     0         42700.0     1.4  123.274162             1     1   \n",
      "3    2014.0     0         86000.0     1.6  103.550296             1     0   \n",
      "4    2014.0     0        104310.0     1.6  103.550296             1     0   \n",
      "..      ...   ...             ...     ...         ...           ...   ...   \n",
      "466  2014.0     0         40195.0     1.4  138.067061             0     1   \n",
      "467  2020.0     0         26218.0     1.0  114.398422             1     1   \n",
      "468  2017.0     0         48571.0     1.4  123.274162             1     1   \n",
      "469  2020.0     0          9584.0     1.0   93.688363             1     1   \n",
      "470  2019.0     0         17303.0     1.0  114.398422             1     1   \n",
      "\n",
      "     Number_of_Owners  Price(£)  \n",
      "0                   1   14995.0  \n",
      "1                   3   10755.0  \n",
      "2                   2   10799.0  \n",
      "3                   3    7490.0  \n",
      "4                   3    7400.0  \n",
      "..                ...       ...  \n",
      "466                 3   11275.0  \n",
      "467                 1   18495.0  \n",
      "468                 2   11995.0  \n",
      "469                 1   19970.0  \n",
      "470                 1   17195.0  \n",
      "\n",
      "[471 rows x 9 columns]\n"
     ]
    }
   ],
   "source": [
    "label_encoder = LabelEncoder()\n",
    "for column in categorical_columns:\n",
    "    df[column] = label_encoder.fit_transform(df[column])\n",
    "print(df)"
   ]
  },
  {
   "cell_type": "code",
   "execution_count": 207,
   "id": "b01d82af-6fef-4af1-aa0f-e70ed1afac26",
   "metadata": {},
   "outputs": [
    {
     "name": "stderr",
     "output_type": "stream",
     "text": [
      "/opt/anaconda3/lib/python3.11/site-packages/sklearn/base.py:439: UserWarning: X does not have valid feature names, but LinearRegression was fitted with feature names\n",
      "  warnings.warn(\n"
     ]
    },
    {
     "data": {
      "text/plain": [
       "array([ 1.37729026e+03,  4.92696729e-09, -5.57181496e-02, -2.98009794e+03,\n",
       "        6.22163390e+01, -1.92261098e+03, -1.36105032e+03, -3.51511125e+01])"
      ]
     },
     "execution_count": 207,
     "metadata": {},
     "output_type": "execute_result"
    }
   ],
   "source": [
    "# y = ax + b\n",
    "x = df.drop([\"Price(£)\"], axis=1)\n",
    "y = df[\"Price(£)\"]\n",
    "lm = LinearRegression()\n",
    "model = lm.fit(x,y)\n",
    "model.predict([[2017, 30000, 1.6, 110, 1, 2600, 0, 1]])\n",
    "model.coef_\n",
    "model.score(x,y)\n"
   ]
  }
 ],
 "metadata": {
  "kernelspec": {
   "display_name": "Python 3 (ipykernel)",
   "language": "python",
   "name": "python3"
  },
  "language_info": {
   "codemirror_mode": {
    "name": "ipython",
    "version": 3
   },
   "file_extension": ".py",
   "mimetype": "text/x-python",
   "name": "python",
   "nbconvert_exporter": "python",
   "pygments_lexer": "ipython3",
   "version": "3.11.7"
  }
 },
 "nbformat": 4,
 "nbformat_minor": 5
}
